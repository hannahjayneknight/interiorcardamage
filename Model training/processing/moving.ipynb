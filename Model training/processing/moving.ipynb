{
 "cells": [
  {
   "cell_type": "code",
   "execution_count": 1,
   "metadata": {},
   "outputs": [
    {
     "data": {
      "text/plain": [
       "4"
      ]
     },
     "execution_count": 1,
     "metadata": {},
     "output_type": "execute_result"
    }
   ],
   "source": [
    "2+2"
   ]
  },
  {
   "cell_type": "code",
   "execution_count": 2,
   "metadata": {},
   "outputs": [],
   "source": [
    "import csv"
   ]
  },
  {
   "cell_type": "code",
   "execution_count": 3,
   "metadata": {},
   "outputs": [],
   "source": [
    "\n",
    "filename = \"C:/Users/hanna/Desktop/git/interiorcardamage/Model training/processing/rnn_misclassified_not_clear_vs_clearV2.csv\"\n",
    "rootdir = \"C:/Users/hanna/OneDrive - Imperial College London/Year 4 work/Master's/Car interior/validation/not_clear_vs_clear - Copy/not_clear/\"\n"
   ]
  },
  {
   "cell_type": "code",
   "execution_count": 4,
   "metadata": {},
   "outputs": [
    {
     "name": "stdout",
     "output_type": "stream",
     "text": [
      "[['Filename'], ['20230408_115314.jpg'], ['336971100_1393545844546842_844948733846369346_n.jpg'], ['344154662_628639455390547_1500000658542202641_n.jpg'], ['IMG_5099.JPG'], ['ea4o34301oxa1.jpeg'], ['ni4qn18e1oxa1.jpeg'], ['up1099800p13.jpg'], ['up1099800p9.jpg'], ['up1101297p13.jpg'], ['up1101297p9.jpg'], ['up1101518p9.jpg'], ['up1103845p14.jpg'], ['up1104088p14.jpg'], ['up1104088p9.jpg'], ['up1104447p14.jpg'], ['up1104550p14.jpg'], ['up1104550p9.jpg'], ['up1104601p9.jpg'], ['up1104651p13.jpg'], ['up1104651p9.jpg'], ['up1105167p14.jpg'], ['up1105609p14.jpg'], ['20230408_114807.jpg'], ['20230408_114813.jpg'], ['20230408_114815.jpg'], ['20230408_114834.jpg'], ['20230408_114843.jpg'], ['20230408_114856.jpg'], ['20230408_115033.jpg'], ['20230408_115114.jpg'], ['20230408_115128.jpg'], ['20230408_115318.jpg'], ['20230408_115324.jpg'], ['20230408_115410.jpg'], ['20230408_115427.jpg'], ['20230408_115521.jpg'], ['20230408_115540.jpg'], ['20230408_115545.jpg'], ['20230408_115643.jpg'], ['20230408_115646.jpg'], ['344925571_986576905692136_796160322963870191_n.jpg'], ['345269045_565301149023503_28499027623937745_n.jpg'], ['345321665_2390546557816551_8522312901786006407_n.jpg'], ['345336568_763340165524493_5123851866305740754_n.jpg'], ['345477782_914976679738367_6831182908347091191_n.jpg'], ['345584075_731793192016233_1686640394797042266_n.jpg'], ['WhatsApp Image 2023-05-07 at 20.23.19.jpeg'], ['WhatsApp Image 2023-05-07 at 20.23.21 (2).jpeg'], ['WhatsApp Image 2023-05-07 at 20.23.31.jpeg'], ['WhatsApp Image 2023-05-27 at 18.49.17.jpeg'], ['WhatsApp Image 2023-05-27 at 18.49.43 (4).jpeg'], ['WhatsApp Image 2023-05-27 at 18.49.43 (5).jpeg'], ['WhatsApp Image 2023-05-27 at 18.49.43.jpeg'], ['WhatsApp Image 2023-05-29 at 17.15.26 (1).jpeg'], ['WhatsApp Image 2023-05-29 at 17.15.26.jpeg'], ['WhatsApp Image 2023-05-29 at 17.15.27 (11).jpeg'], ['WhatsApp Image 2023-05-29 at 17.15.27 (5).jpeg'], ['WhatsApp Image 2023-05-29 at 17.15.28 (1).jpeg'], ['WhatsApp Image 2023-05-29 at 17.15.28 (4).jpeg'], ['WhatsApp Image 2023-05-29 at 17.15.48 (1).jpeg'], ['WhatsApp Image 2023-05-29 at 17.15.49 (1).jpeg'], ['WhatsApp Image 2023-05-29 at 17.15.50 (8).jpeg'], ['WhatsApp Image 2023-05-29 at 17.15.51 (2).jpeg'], ['WhatsApp Image 2023-05-29 at 17.15.51 (4).jpeg'], ['WhatsApp Image 2023-05-29 at 17.15.51 (6).jpeg'], ['WhatsApp Image 2023-05-29 at 17.15.51 (7).jpeg'], ['WhatsApp Image 2023-05-29 at 17.15.51.jpeg'], ['WhatsApp Image 2023-05-29 at 17.15.52 (4).jpeg'], ['WhatsApp Image 2023-05-29 at 17.15.52.jpeg'], ['WhatsApp Image 2023-05-30 at 16.18.37.jpeg'], ['WhatsApp Image 2023-05-30 at 16.18.39 (1).jpeg']]\n"
     ]
    }
   ],
   "source": [
    "\n",
    "with open(filename, newline='') as csvfile:\n",
    "    data = list(csv.reader(csvfile))\n",
    "\n",
    "print(data)"
   ]
  },
  {
   "cell_type": "code",
   "execution_count": 12,
   "metadata": {},
   "outputs": [
    {
     "name": "stdout",
     "output_type": "stream",
     "text": [
      "True\n",
      "True\n",
      "True\n",
      "True\n",
      "True\n",
      "True\n",
      "True\n",
      "True\n",
      "True\n",
      "True\n",
      "True\n",
      "True\n",
      "True\n",
      "True\n",
      "True\n",
      "True\n",
      "True\n",
      "True\n",
      "True\n",
      "True\n",
      "True\n",
      "True\n",
      "True\n",
      "True\n",
      "True\n",
      "True\n",
      "True\n",
      "True\n",
      "True\n",
      "True\n",
      "True\n",
      "True\n",
      "True\n",
      "True\n",
      "True\n",
      "True\n",
      "True\n",
      "True\n",
      "True\n",
      "True\n",
      "True\n",
      "True\n",
      "True\n",
      "True\n",
      "True\n",
      "True\n",
      "True\n",
      "True\n",
      "True\n"
     ]
    }
   ],
   "source": [
    "import os\n",
    "\n",
    "for i in range(len(data)-1):\n",
    "    i = i+1\n",
    "    file = data[i][0]\n",
    "    if os.path.isfile(rootdir + file):\n",
    "        print(True)"
   ]
  },
  {
   "cell_type": "code",
   "execution_count": null,
   "metadata": {},
   "outputs": [],
   "source": [
    "import os\n",
    "\n",
    "if os.path.isfile(rootdir + row)"
   ]
  }
 ],
 "metadata": {
  "kernelspec": {
   "display_name": "pytorch",
   "language": "python",
   "name": "python3"
  },
  "language_info": {
   "codemirror_mode": {
    "name": "ipython",
    "version": 3
   },
   "file_extension": ".py",
   "mimetype": "text/x-python",
   "name": "python",
   "nbconvert_exporter": "python",
   "pygments_lexer": "ipython3",
   "version": "3.7.16"
  },
  "orig_nbformat": 4
 },
 "nbformat": 4,
 "nbformat_minor": 2
}
