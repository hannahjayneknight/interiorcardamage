{
 "cells": [
  {
   "attachments": {},
   "cell_type": "markdown",
   "metadata": {},
   "source": [
    "# Exploring the results\n",
    "\n",
    "Here we find the confusion matrix and list of files that failed to be correctly classfied. "
   ]
  },
  {
   "attachments": {},
   "cell_type": "markdown",
   "metadata": {},
   "source": [
    "### First training a model to test the results for\n",
    "\n",
    "This model is purely an example to show how we will analyse the model."
   ]
  },
  {
   "cell_type": "code",
   "execution_count": 2,
   "metadata": {},
   "outputs": [
    {
     "name": "stdout",
     "output_type": "stream",
     "text": [
      "Epoch [0], Loss: 0.6951\n",
      "Epoch [1], Loss: 0.6748\n",
      "Epoch [2], Loss: 0.6297\n",
      "Epoch [3], Loss: 0.6188\n",
      "Epoch [4], Loss: 0.6011\n",
      "Epoch [5], Loss: 0.5995\n",
      "Epoch [6], Loss: 0.5819\n",
      "Epoch [7], Loss: 0.5751\n",
      "Epoch [8], Loss: 0.5580\n",
      "Epoch [9], Loss: 0.5502\n"
     ]
    }
   ],
   "source": [
    "import torch\n",
    "import torch.nn as nn\n",
    "import torch.optim as optim\n",
    "import torchvision.transforms as transforms\n",
    "from torch.utils.data import DataLoader\n",
    "from torchvision.datasets import ImageFolder\n",
    "\n",
    "# Set device\n",
    "device = torch.device(\"cuda\" if torch.cuda.is_available() else \"cpu\")\n",
    "\n",
    "# Hyperparameters\n",
    "image_size = 150\n",
    "input_size = image_size * image_size * 3  # Image size: 32x32 with 3 color channels\n",
    "hidden_size = 128\n",
    "num_layers = 2\n",
    "num_classes = 2\n",
    "batch_size = 100\n",
    "num_epochs = 10\n",
    "learning_rate = 0.001\n",
    "\n",
    "# Data transforms\n",
    "transform = transforms.Compose([\n",
    "    transforms.Resize((image_size, image_size)),     # Resize the image to 32x32\n",
    "    transforms.ToTensor(),           # Convert image to tensor\n",
    "    transforms.Normalize(            # Normalize image channels\n",
    "        mean=[0.485, 0.456, 0.406],\n",
    "        std=[0.229, 0.224, 0.225]\n",
    "    )\n",
    "])\n",
    "\n",
    "# Load the dataset\n",
    "#train_dataset = ImageFolder(\"../foreign_vs_clear/train\", transform=transform)\n",
    "#test_dataset = ImageFolder(\"../foreign_vs_clear/test\", transform=transform)\n",
    "\n",
    "train_dataset = ImageFolder(\"C:/Users/hanna/Desktop/git/interiorcardamage/Data2/processed/train\", transform=transform)\n",
    "test_dataset = ImageFolder(\"C:/Users/hanna/Desktop/git/interiorcardamage/Data2/processed/test\", transform=transform)\n",
    "\n",
    "# Data loader\n",
    "train_loader = DataLoader(train_dataset, batch_size=batch_size, shuffle=True)\n",
    "test_loader = DataLoader(test_dataset, batch_size=batch_size, shuffle=False)\n",
    "\n",
    "# Recurrent neural network (RNN)\n",
    "class RNN(nn.Module):\n",
    "    def __init__(self, input_size, hidden_size, num_layers, num_classes):\n",
    "        super(RNN, self).__init__()\n",
    "        self.hidden_size = hidden_size\n",
    "        self.num_layers = num_layers\n",
    "        self.rnn = nn.RNN(input_size, hidden_size, num_layers, batch_first=True)\n",
    "        self.fc = nn.Linear(hidden_size, num_classes)\n",
    "\n",
    "    def forwardOLD(self, x):\n",
    "        h0 = torch.zeros(self.num_layers, x.size(0), self.hidden_size).to(device)\n",
    "\n",
    "        out, _ = self.rnn(x, h0.reshape(self.num_layers, x.size(0), self.hidden_size))\n",
    "        out = self.fc(out[:, -1, :])\n",
    "\n",
    "        return out\n",
    "\n",
    "    def forward(self, x):\n",
    "        h0 = torch.zeros(self.num_layers, x.size(0), self.hidden_size).to(device)\n",
    "\n",
    "        out, _ = self.rnn(x.unsqueeze(1), h0)\n",
    "        out = self.fc(out[:, -1, :])\n",
    "\n",
    "        return out\n",
    "\n",
    "\n",
    "# Initialize the model\n",
    "model = RNN(input_size, hidden_size, num_layers, num_classes).to(device)\n",
    "\n",
    "# Loss and optimizer\n",
    "criterion = nn.CrossEntropyLoss()\n",
    "optimizer = optim.Adam(model.parameters(), lr=learning_rate)\n",
    "\n",
    "# Training loop\n",
    "total_step = len(train_loader)\n",
    "for epoch in range(num_epochs):\n",
    "    for i, (images, labels) in enumerate(train_loader):\n",
    "        images = images.to(device)\n",
    "        labels = labels.to(device)\n",
    "\n",
    "        # Reshape images\n",
    "        images = images.view(-1, input_size)\n",
    "\n",
    "        # Forward pass\n",
    "        outputs = model(images)\n",
    "        loss = criterion(outputs, labels)\n",
    "\n",
    "        # Backward and optimize\n",
    "        optimizer.zero_grad()\n",
    "        loss.backward()\n",
    "        optimizer.step()\n",
    "\n",
    "    print(f\"Epoch [{epoch}], Loss: {loss.item():.4f}\")\n"
   ]
  },
  {
   "cell_type": "code",
   "execution_count": 3,
   "metadata": {},
   "outputs": [
    {
     "name": "stdout",
     "output_type": "stream",
     "text": [
      "Labels: tensor([0, 0, 0, 0, 0, 0, 0, 0, 0, 0, 0, 0, 0, 0, 0, 0, 0, 0, 0, 0, 0, 1, 1, 1,\n",
      "        1, 1, 1, 1, 1, 1, 1, 1, 1, 1, 1, 1, 1, 1, 1, 1, 1, 1])\n",
      "Predicted: tensor([0, 0, 0, 0, 1, 0, 0, 0, 1, 0, 1, 1, 0, 0, 0, 0, 0, 0, 0, 0, 0, 0, 0, 1,\n",
      "        0, 0, 0, 0, 0, 0, 1, 0, 1, 0, 1, 0, 1, 0, 1, 0, 0, 0])\n",
      "Test Accuracy: 54.76%\n"
     ]
    }
   ],
   "source": [
    "\n",
    "# Test the model\n",
    "device = torch.device(\"cuda\" if torch.cuda.is_available() else \"cpu\")\n",
    "model.eval()\n",
    "with torch.no_grad():\n",
    "    correct = 0\n",
    "    total = 0\n",
    "    for images, labels in test_loader:\n",
    "        images = images.to(device)\n",
    "        labels = labels.to(device)\n",
    "        images = images.view(-1, input_size)\n",
    "        outputs = model(images)\n",
    "        _, predicted = torch.max(outputs.data, 1)\n",
    "        total += labels.size(0)\n",
    "        correct += (predicted == labels).sum().item()\n",
    "        print(f\"Labels: {labels}\")\n",
    "        print(f\"Predicted: {predicted}\")\n",
    "\n",
    "    accuracy = 100 * correct / total\n",
    "    print(f\"Test Accuracy: {accuracy:.2f}%\")\n"
   ]
  },
  {
   "attachments": {},
   "cell_type": "markdown",
   "metadata": {},
   "source": [
    "### Confusion matrix\n",
    "\n",
    "The matrix will have the following four squares:\n",
    "\n",
    "1. True Positive (1, 1): This cell represents the cases where the model correctly predicts the positive class (e.g., presence of a certain condition) and the true label is indeed positive.\n",
    "2. False Positive (0, 1) i.e. top right: This cell represents the cases where the model incorrectly predicts the positive class, but the true label is actually negative (a false alarm or Type I error).\n",
    "3. True Negative (0, 0): This cell represents the cases where the model correctly predicts the negative class (e.g., absence of a certain condition) and the true label is indeed negative.\n",
    "4. False Negative (1, 0) i.e bottom left: This cell represents the cases where the model incorrectly predicts the negative class, but the true label is actually positive (a missed detection or Type II error)."
   ]
  },
  {
   "cell_type": "code",
   "execution_count": 14,
   "metadata": {},
   "outputs": [
    {
     "data": {
      "image/png": "[encoded data removed]",
      "text/plain": [
       "<Figure size 640x480 with 2 Axes>"
      ]
     },
     "metadata": {},
     "output_type": "display_data"
    },
    {
     "data": {
      "text/plain": [
       "<AxesSubplot:xlabel='Predicted labels', ylabel='True labels'>"
      ]
     },
     "execution_count": 14,
     "metadata": {},
     "output_type": "execute_result"
    }
   ],
   "source": [
    "from sklearn.metrics import confusion_matrix \n",
    "import numpy as np\n",
    "import seaborn as sns\n",
    "import matplotlib.pyplot as plt\n",
    "\n",
    "cm = confusion_matrix(labels, predicted)\n",
    "cm_percentages = cm.astype('float') / cm.sum(axis=1)[:, np.newaxis] \n",
    "cm_percentages = np.round(cm_percentages, decimals=2)\n",
    "#heatmap = sns.heatmap(cm_percentages, annot=True, fmt=\".2%\", cmap=\"Blues\")\n",
    "heatmap = sns.heatmap(cm, annot=True, fmt=\"d\", cmap=\"Blues\")\n",
    "plt.xlabel(\"Predicted labels\")\n",
    "plt.ylabel(\"True labels\")\n",
    "plt.show()\n",
    "heatmap.figure.savefig(\"confusion_matrix.png\") # rnn_not_clear_vs_clear.png\n",
    "\n",
    "heatmap"
   ]
  },
  {
   "cell_type": "code",
   "execution_count": 18,
   "metadata": {},
   "outputs": [
    {
     "data": {
      "text/plain": [
       "15"
      ]
     },
     "execution_count": 18,
     "metadata": {},
     "output_type": "execute_result"
    }
   ],
   "source": [
    "cm[1][0]"
   ]
  },
  {
   "cell_type": "code",
   "execution_count": 16,
   "metadata": {},
   "outputs": [
    {
     "name": "stdout",
     "output_type": "stream",
     "text": [
      "              precision    recall  f1-score   support\n",
      "\n",
      "           0       0.53      0.81      0.64        21\n",
      "           1       0.60      0.29      0.39        21\n",
      "\n",
      "    accuracy                           0.55        42\n",
      "   macro avg       0.57      0.55      0.51        42\n",
      "weighted avg       0.57      0.55      0.51        42\n",
      "\n"
     ]
    }
   ],
   "source": [
    "from sklearn.metrics import classification_report\n",
    "print( classification_report(labels, predicted) )"
   ]
  },
  {
   "attachments": {},
   "cell_type": "markdown",
   "metadata": {},
   "source": [
    "### Finding the images incorrectly classified"
   ]
  },
  {
   "cell_type": "code",
   "execution_count": 5,
   "metadata": {},
   "outputs": [
    {
     "data": {
      "text/plain": [
       "['C:/Users/hanna/Desktop/git/interiorcardamage/Data2/processed/test\\\\KnitCap\\\\KnitCap_000000.png',\n",
       " 'C:/Users/hanna/Desktop/git/interiorcardamage/Data2/processed/test\\\\KnitCap\\\\KnitCap_000001.png',\n",
       " 'C:/Users/hanna/Desktop/git/interiorcardamage/Data2/processed/test\\\\KnitCap\\\\KnitCap_000002.png',\n",
       " 'C:/Users/hanna/Desktop/git/interiorcardamage/Data2/processed/test\\\\KnitCap\\\\KnitCap_000003.png',\n",
       " 'C:/Users/hanna/Desktop/git/interiorcardamage/Data2/processed/test\\\\KnitCap\\\\KnitCap_000004.png',\n",
       " 'C:/Users/hanna/Desktop/git/interiorcardamage/Data2/processed/test\\\\KnitCap\\\\KnitCap_000005.png',\n",
       " 'C:/Users/hanna/Desktop/git/interiorcardamage/Data2/processed/test\\\\KnitCap\\\\KnitCap_000006.png',\n",
       " 'C:/Users/hanna/Desktop/git/interiorcardamage/Data2/processed/test\\\\KnitCap\\\\KnitCap_000007.png',\n",
       " 'C:/Users/hanna/Desktop/git/interiorcardamage/Data2/processed/test\\\\KnitCap\\\\KnitCap_000008.png',\n",
       " 'C:/Users/hanna/Desktop/git/interiorcardamage/Data2/processed/test\\\\KnitCap\\\\KnitCap_000009.png',\n",
       " 'C:/Users/hanna/Desktop/git/interiorcardamage/Data2/processed/test\\\\KnitCap\\\\KnitCap_000010.png',\n",
       " 'C:/Users/hanna/Desktop/git/interiorcardamage/Data2/processed/test\\\\KnitCap\\\\KnitCap_000011.png',\n",
       " 'C:/Users/hanna/Desktop/git/interiorcardamage/Data2/processed/test\\\\KnitCap\\\\KnitCap_000012.png',\n",
       " 'C:/Users/hanna/Desktop/git/interiorcardamage/Data2/processed/test\\\\KnitCap\\\\KnitCap_000013.png',\n",
       " 'C:/Users/hanna/Desktop/git/interiorcardamage/Data2/processed/test\\\\KnitCap\\\\KnitCap_000014.png',\n",
       " 'C:/Users/hanna/Desktop/git/interiorcardamage/Data2/processed/test\\\\KnitCap\\\\KnitCap_000015.png',\n",
       " 'C:/Users/hanna/Desktop/git/interiorcardamage/Data2/processed/test\\\\KnitCap\\\\KnitCap_000016.png',\n",
       " 'C:/Users/hanna/Desktop/git/interiorcardamage/Data2/processed/test\\\\KnitCap\\\\KnitCap_000017.png',\n",
       " 'C:/Users/hanna/Desktop/git/interiorcardamage/Data2/processed/test\\\\KnitCap\\\\KnitCap_000018.png',\n",
       " 'C:/Users/hanna/Desktop/git/interiorcardamage/Data2/processed/test\\\\KnitCap\\\\KnitCap_000019.png',\n",
       " 'C:/Users/hanna/Desktop/git/interiorcardamage/Data2/processed/test\\\\KnitCap\\\\KnitCap_000020.png',\n",
       " 'C:/Users/hanna/Desktop/git/interiorcardamage/Data2/processed/test\\\\clear\\\\000000.png',\n",
       " 'C:/Users/hanna/Desktop/git/interiorcardamage/Data2/processed/test\\\\clear\\\\000001.png',\n",
       " 'C:/Users/hanna/Desktop/git/interiorcardamage/Data2/processed/test\\\\clear\\\\000002.png',\n",
       " 'C:/Users/hanna/Desktop/git/interiorcardamage/Data2/processed/test\\\\clear\\\\000003.png',\n",
       " 'C:/Users/hanna/Desktop/git/interiorcardamage/Data2/processed/test\\\\clear\\\\000004.png',\n",
       " 'C:/Users/hanna/Desktop/git/interiorcardamage/Data2/processed/test\\\\clear\\\\000005.png',\n",
       " 'C:/Users/hanna/Desktop/git/interiorcardamage/Data2/processed/test\\\\clear\\\\000006.png',\n",
       " 'C:/Users/hanna/Desktop/git/interiorcardamage/Data2/processed/test\\\\clear\\\\000007.png',\n",
       " 'C:/Users/hanna/Desktop/git/interiorcardamage/Data2/processed/test\\\\clear\\\\000008.png',\n",
       " 'C:/Users/hanna/Desktop/git/interiorcardamage/Data2/processed/test\\\\clear\\\\000009.png',\n",
       " 'C:/Users/hanna/Desktop/git/interiorcardamage/Data2/processed/test\\\\clear\\\\000010.png',\n",
       " 'C:/Users/hanna/Desktop/git/interiorcardamage/Data2/processed/test\\\\clear\\\\000011.png',\n",
       " 'C:/Users/hanna/Desktop/git/interiorcardamage/Data2/processed/test\\\\clear\\\\000012.png',\n",
       " 'C:/Users/hanna/Desktop/git/interiorcardamage/Data2/processed/test\\\\clear\\\\000013.png',\n",
       " 'C:/Users/hanna/Desktop/git/interiorcardamage/Data2/processed/test\\\\clear\\\\000014.png',\n",
       " 'C:/Users/hanna/Desktop/git/interiorcardamage/Data2/processed/test\\\\clear\\\\000015.png',\n",
       " 'C:/Users/hanna/Desktop/git/interiorcardamage/Data2/processed/test\\\\clear\\\\000016.png',\n",
       " 'C:/Users/hanna/Desktop/git/interiorcardamage/Data2/processed/test\\\\clear\\\\000017.png',\n",
       " 'C:/Users/hanna/Desktop/git/interiorcardamage/Data2/processed/test\\\\clear\\\\000018.png',\n",
       " 'C:/Users/hanna/Desktop/git/interiorcardamage/Data2/processed/test\\\\clear\\\\000019.png',\n",
       " 'C:/Users/hanna/Desktop/git/interiorcardamage/Data2/processed/test\\\\clear\\\\000020.png']"
      ]
     },
     "execution_count": 5,
     "metadata": {},
     "output_type": "execute_result"
    }
   ],
   "source": [
    "test_filenames = [path for path, _ in test_dataset.imgs]\n",
    "test_filenames"
   ]
  },
  {
   "cell_type": "code",
   "execution_count": 12,
   "metadata": {},
   "outputs": [],
   "source": [
    "import os\n",
    "misclassified_filenames = []\n",
    "for i in range(len(predicted)):\n",
    "    if predicted[i] != labels[i]:\n",
    "        misclassified_filenames.append(os.path.basename(test_filenames[i]))\n"
   ]
  },
  {
   "cell_type": "code",
   "execution_count": 13,
   "metadata": {},
   "outputs": [
    {
     "data": {
      "text/plain": [
       "['KnitCap_000004.png',\n",
       " 'KnitCap_000008.png',\n",
       " 'KnitCap_000010.png',\n",
       " 'KnitCap_000011.png',\n",
       " '000000.png',\n",
       " '000001.png',\n",
       " '000003.png',\n",
       " '000004.png',\n",
       " '000005.png',\n",
       " '000006.png',\n",
       " '000007.png',\n",
       " '000008.png',\n",
       " '000010.png',\n",
       " '000012.png',\n",
       " '000014.png',\n",
       " '000016.png',\n",
       " '000018.png',\n",
       " '000019.png',\n",
       " '000020.png']"
      ]
     },
     "execution_count": 13,
     "metadata": {},
     "output_type": "execute_result"
    }
   ],
   "source": [
    "misclassified_filenames"
   ]
  },
  {
   "cell_type": "code",
   "execution_count": 10,
   "metadata": {},
   "outputs": [],
   "source": [
    "import csv\n",
    "\n",
    "file_path = \"misclassified_filenames.csv\" # rnn_misclassified_not_clear_vs_clear\n",
    "\n",
    "with open(file_path, \"w\", newline=\"\") as file:\n",
    "    writer = csv.writer(file)\n",
    "    writer.writerow([\"Filename\"]) \n",
    "    writer.writerows([[filename] for filename in misclassified_filenames])\n"
   ]
  },
  {
   "attachments": {},
   "cell_type": "markdown",
   "metadata": {},
   "source": [
    "### Final script for HPC"
   ]
  },
  {
   "cell_type": "code",
   "execution_count": null,
   "metadata": {},
   "outputs": [],
   "source": [
    "'''\n",
    "--------------------------------- Exploring -----------------------------------------\n",
    "'''\n",
    "\n",
    "from sklearn.metrics import confusion_matrix\n",
    "import numpy as np\n",
    "import seaborn as sns\n",
    "import matplotlib.pyplot as plt\n",
    "\n",
    "# Assuming you have the tensors 'labels' and 'predicted' on the GPU\n",
    "\n",
    "# Move tensors from GPU to CPU\n",
    "labels = labels.cpu()\n",
    "predicted = predicted.cpu()\n",
    "\n",
    "# Calculate the confusion matrix\n",
    "cm = confusion_matrix(labels.numpy(), predicted.numpy())\n",
    "\n",
    "# Convert the raw numbers to percentages\n",
    "cm_percentages = cm.astype('float') / cm.sum(axis=1)[:, np.newaxis]\n",
    "cm_percentages = np.round(cm_percentages, decimals=2)\n",
    "\n",
    "# Plot the confusion matrix as a heatmap\n",
    "#heatmap = sns.heatmap(cm_percentages, annot=True, fmt=\".2%\", cmap=\"Blues\")\n",
    "heatmap = sns.heatmap(cm, annot=True, fmt=\"d\", cmap=\"Blues\")\n",
    "plt.xlabel(\"Predicted labels\")\n",
    "plt.ylabel(\"True labels\")\n",
    "plt.show()\n",
    "heatmap.figure.savefig(\"rnn_not_clear_vs_clear.png\")\n",
    "\n",
    "# Rest of the code for saving misclassified filenames\n",
    "\n",
    "\n",
    "test_filenames = [path for path, _ in test_dataset.imgs]\n",
    "\n",
    "import os\n",
    "misclassified_filenames = []\n",
    "for i in range(len(predicted)):\n",
    "    if predicted[i] != labels[i]:\n",
    "        misclassified_filenames.append(os.path.basename(test_filenames[i]))\n",
    "\n",
    "import csv\n",
    "\n",
    "file_path = \"rnn_misclassified_not_clear_vs_clear.csv\"\n",
    "\n",
    "with open(file_path, \"w\", newline=\"\") as file:\n",
    "    writer = csv.writer(file)\n",
    "    writer.writerow([\"Filename\"])\n",
    "    writer.writerows([[filename] for filename in misclassified_filenames])\n",
    "\n",
    "from sklearn.metrics import classification_report\n",
    "print( classification_report(labels, predicted) )"
   ]
  }
 ],
 "metadata": {
  "kernelspec": {
   "display_name": "pytorch",
   "language": "python",
   "name": "python3"
  },
  "language_info": {
   "codemirror_mode": {
    "name": "ipython",
    "version": 3
   },
   "file_extension": ".py",
   "mimetype": "text/x-python",
   "name": "python",
   "nbconvert_exporter": "python",
   "pygments_lexer": "ipython3",
   "version": "3.7.16"
  },
  "orig_nbformat": 4
 },
 "nbformat": 4,
 "nbformat_minor": 2
}
