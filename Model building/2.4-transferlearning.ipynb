{
 "cells": [
  {
   "attachments": {},
   "cell_type": "markdown",
   "metadata": {},
   "source": [
    "# Transfer learning\n",
    "\n",
    "https://www.kaggle.com/code/leifuer/intro-to-pytorch-transfer-learning \n",
    "\n",
    "https://huggingface.co/\n",
    "\n",
    "https://paperswithcode.com/ "
   ]
  }
 ],
 "metadata": {
  "language_info": {
   "name": "python"
  },
  "orig_nbformat": 4
 },
 "nbformat": 4,
 "nbformat_minor": 2
}
